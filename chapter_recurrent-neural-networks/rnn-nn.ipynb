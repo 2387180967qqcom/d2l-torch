{
 "cells": [
  {
   "cell_type": "markdown",
   "metadata": {
    "colab_type": "text",
    "id": "331cKrixDlD_"
   },
   "source": [
    "# 循环神经网络的简洁实现\n",
    "\n",
    "本节将使用nn来更简洁地实现基于循环神经网络的语言模型。首先，我们读取周杰伦专辑歌词数据集。"
   ]
  },
  {
   "cell_type": "code",
   "execution_count": 0,
   "metadata": {
    "colab": {},
    "colab_type": "code",
    "id": "KjgM7FS7DlmV"
   },
   "outputs": [],
   "source": [
    "import d2ltorch as d2lt\n",
    "import math\n",
    "import torch\n",
    "from torch import nn, optim, utils\n",
    "import time\n",
    "\n",
    "(corpus_indices, char_to_idx, idx_to_char,\n",
    " vocab_size) = d2lt.load_data_jay_lyrics()"
   ]
  },
  {
   "cell_type": "markdown",
   "metadata": {
    "colab_type": "text",
    "id": "PHZ2QxoGDnfp"
   },
   "source": [
    "## 定义模型\n",
    "\n",
    "nn的`RNN`模块提供了循环神经网络的实现。下面构造一个含单隐藏层、隐藏单元个数为256的循环神经网络层`rnn_layer`，并对权重做初始化。"
   ]
  },
  {
   "cell_type": "code",
   "execution_count": 0,
   "metadata": {
    "colab": {},
    "colab_type": "code",
    "id": "YwtZvHX0DpPv"
   },
   "outputs": [],
   "source": [
    "num_hiddens = 256\n",
    "rnn_layer = nn.RNN(vocab_size, num_hiddens)"
   ]
  },
  {
   "cell_type": "markdown",
   "metadata": {
    "colab_type": "text",
    "id": "zCsUtoHzDsQD"
   },
   "source": [
    "接下来调用`rnn_layer`时如果没有传入隐藏状态`hx`，会使用`torch.zeros`函数初始化`hx`。它是一个形状为(隐藏层个数, 批量大小, 隐藏单元个数)的`tensor`。"
   ]
  },
  {
   "cell_type": "markdown",
   "metadata": {
    "colab_type": "text",
    "id": "0YF_MM92Dt8s"
   },
   "source": [
    "与上一节中实现的循环神经网络不同，这里`rnn_layer`的输入形状为(时间步数, 批量大小, 输入个数)。其中输入个数即one-hot向量长度（词典大小）。此外，`rnn_layer`作为PyTorch的`nn.RNN`实例，在前向计算后会分别返回输出和隐藏状态，其中输出指的是隐藏层在各个时间步上计算并输出的隐藏状态，它们通常作为后续输出层的输入。需要强调的是，该“输出”本身并不涉及输出层计算，形状为(时间步数, 批量大小, 隐藏单元个数)。而`nn.RNN`实例在前向计算返回的隐藏状态指的是隐藏层在最后时间步的可用于初始化下一时间步的隐藏状态：当隐藏层有多层时，每一层的隐藏状态都会记录在该变量中；对于像长短期记忆这样的循环神经网络，该变量还会包含其他信息。我们会在本章的后面介绍长短期记忆和深度循环神经网络。"
   ]
  },
  {
   "cell_type": "code",
   "execution_count": 3,
   "metadata": {
    "colab": {
     "base_uri": "https://localhost:8080/",
     "height": 35
    },
    "colab_type": "code",
    "id": "cuIE1wJqDx1m",
    "outputId": "25b5124e-e7e4-48af-eda2-9e4cb1322277"
   },
   "outputs": [
    {
     "data": {
      "text/plain": [
       "(torch.Size([35, 2, 256]), 1, torch.Size([2, 256]))"
      ]
     },
     "execution_count": 3,
     "metadata": {
      "tags": []
     },
     "output_type": "execute_result"
    }
   ],
   "source": [
    "batch_size = 2\n",
    "num_steps = 35\n",
    "X = torch.rand(num_steps, batch_size, vocab_size)\n",
    "Y, state_new = rnn_layer(X)\n",
    "Y.shape, len(state_new), state_new[0].shape"
   ]
  },
  {
   "cell_type": "markdown",
   "metadata": {
    "colab_type": "text",
    "id": "xfWgg90oD0TY"
   },
   "source": [
    "接下来我们继承`Module`类来定义一个完整的循环神经网络。它首先将输入数据使用one-hot向量表示后输入到`rnn_layer`中，然后使用全连接输出层得到输出。输出个数等于词典大小`vocab_size`。"
   ]
  },
  {
   "cell_type": "code",
   "execution_count": 0,
   "metadata": {
    "colab": {},
    "colab_type": "code",
    "id": "0t561BC6D2j8"
   },
   "outputs": [],
   "source": [
    "#本类已保存在d2ltorch包中方便以后使用\n",
    "class RNNModel(nn.Module):\n",
    "    def __init__(self, rnn_layer, num_hiddens, vocab_size, **kwargs):\n",
    "        super(RNNModel, self).__init__(**kwargs)\n",
    "        self.rnn = rnn_layer\n",
    "        self.vocab_size = vocab_size\n",
    "        self.linear = nn.Linear(num_hiddens, vocab_size)\n",
    "    \n",
    "    def forward(self, inputs, state=None):\n",
    "        # 将输入转置成(num_steps, batch_size)后获取one-hot向量表示\n",
    "        X = torch.stack(d2lt.to_onehot(inputs, self.vocab_size, inputs.device))\n",
    "        Y, state = self.rnn(X, state)\n",
    "        # 全连接层会首先将Y的形状变成(num_steps * batch_size, num_hiddens)，它的输出\n",
    "        # 形状为(num_steps * batch_size, vocab_size)\n",
    "        output = self.linear(Y.reshape(-1, Y.shape[-1]))\n",
    "        return output, state"
   ]
  },
  {
   "cell_type": "markdown",
   "metadata": {
    "colab_type": "text",
    "id": "_IoHibDAD4Od"
   },
   "source": [
    "## 训练模型\n",
    "\n",
    "同上一节一样，下面定义一个预测函数。这里的实现区别在于前向计算和初始化隐藏状态的函数接口。"
   ]
  },
  {
   "cell_type": "code",
   "execution_count": 0,
   "metadata": {
    "colab": {},
    "colab_type": "code",
    "id": "B_i-I9uND6m-"
   },
   "outputs": [],
   "source": [
    "# 本函数已保存在d2ltorch包中方便以后使用\n",
    "def predict_rnn_nn(prefix, num_chars, model, vocab_size, device, idx_to_char,\n",
    "                  char_to_idx):\n",
    "    # 使用model的成员函数来初始化隐藏状态\n",
    "    state = None\n",
    "    output = [char_to_idx[prefix[0]]]\n",
    "    with torch.no_grad():\n",
    "        for t in range(num_chars + len(prefix) - 1):\n",
    "            X = torch.Tensor([output[-1]]).to(device).reshape(1, 1)\n",
    "            (Y, state) = model(X, state) # 前向传播不需要传入模型参数\n",
    "            if t < len(prefix) - 1:\n",
    "                output.append(char_to_idx[prefix[t + 1]])\n",
    "            else:\n",
    "                output.append(int(Y.argmax(dim=1).item()))\n",
    "    return ''.join([idx_to_char[i] for i in output])"
   ]
  },
  {
   "cell_type": "markdown",
   "metadata": {
    "colab_type": "text",
    "id": "ns79W2cIEAL3"
   },
   "source": [
    "让我们使用权重为随机值的模型来预测一次。"
   ]
  },
  {
   "cell_type": "code",
   "execution_count": 7,
   "metadata": {
    "colab": {
     "base_uri": "https://localhost:8080/",
     "height": 35
    },
    "colab_type": "code",
    "id": "eWs89N77EBeF",
    "outputId": "37fe675e-569a-4a08-95ad-b78436de340f"
   },
   "outputs": [
    {
     "data": {
      "text/plain": [
       "'分开回完停术停术停术停术'"
      ]
     },
     "execution_count": 7,
     "metadata": {
      "tags": []
     },
     "output_type": "execute_result"
    }
   ],
   "source": [
    "device = d2lt.try_gpu()\n",
    "model = RNNModel(rnn_layer, num_hiddens, vocab_size)\n",
    "model.to(device)\n",
    "predict_rnn_nn('分开', 10, model, vocab_size, device, idx_to_char, char_to_idx)"
   ]
  },
  {
   "cell_type": "markdown",
   "metadata": {
    "colab_type": "text",
    "id": "YBvAPyvyFcTn"
   },
   "source": [
    "接下来实现训练函数。算法同上一节的一样，但这里只使用了相邻采样来读取数据。"
   ]
  },
  {
   "cell_type": "code",
   "execution_count": 0,
   "metadata": {
    "colab": {},
    "colab_type": "code",
    "id": "TTa0jAasFdAh"
   },
   "outputs": [],
   "source": [
    "# 本函数已保存在d2ltorch包中方便以后使用\n",
    "def train_and_predict_rnn_nn(model, num_hiddens, vocab_size, device,\n",
    "                            corpus_indices, idx_to_char, char_to_idx,\n",
    "                            num_epochs, num_steps, lr, clipping_theta,\n",
    "                            batch_size, pred_period, pred_len, prefixes):\n",
    "    loss = nn.CrossEntropyLoss()\n",
    "    model.to(device)\n",
    "    d2lt.params_init(model, init=nn.init.normal_, mean=0.01)\n",
    "    optimizer = optim.SGD(model.parameters(), lr=lr, momentum=0, weight_decay=0)\n",
    "    \n",
    "    for epoch in range(num_epochs):\n",
    "        l_sum, n, start = 0.0, 0, time.time()\n",
    "        data_iter = d2lt.data_iter_consecutive(\n",
    "            corpus_indices, batch_size, num_steps, device)\n",
    "        state = None\n",
    "        for X, Y in data_iter:\n",
    "            optimizer.zero_grad()\n",
    "            if not state is None:\n",
    "                if isinstance(state, tuple):\n",
    "                    for s in state:\n",
    "                        s.detach_()\n",
    "                else:\n",
    "                    state.detach_()\n",
    "            (output, state) = model(X, state)\n",
    "            y = Y.long().t().flatten()\n",
    "            l = loss(output, y)\n",
    "            l.backward()\n",
    "            # 梯度裁剪\n",
    "            nn.utils.clip_grad_norm_(model.parameters(), clipping_theta)\n",
    "            optimizer.step()\n",
    "            l_sum += l.data.mean().item() * torch.numel(y.data)\n",
    "            n += torch.numel(y.data)\n",
    "        \n",
    "        if (epoch + 1) % pred_period == 0:\n",
    "            print('epoch %d, perplexity %f, time %.2f sec' % (\n",
    "                epoch + 1, math.exp(l_sum / n), time.time() - start))\n",
    "            for prefix in prefixes:\n",
    "                print(' -', predict_rnn_nn(\n",
    "                    prefix, pred_len, model, vocab_size, device, idx_to_char,\n",
    "                    char_to_idx))"
   ]
  },
  {
   "cell_type": "markdown",
   "metadata": {
    "colab_type": "text",
    "id": "dLozqDDdFfUi"
   },
   "source": [
    "使用和上一节实验中一样的超参数来训练模型。"
   ]
  },
  {
   "cell_type": "code",
   "execution_count": 10,
   "metadata": {
    "colab": {
     "base_uri": "https://localhost:8080/",
     "height": 277
    },
    "colab_type": "code",
    "id": "UlyADL2VFh--",
    "outputId": "c1b7531b-457b-4665-ecf7-397e649d9b9a"
   },
   "outputs": [
    {
     "name": "stdout",
     "output_type": "stream",
     "text": [
      "epoch 50, perplexity 1.414636, time 0.06 sec\n",
      " - 分开的那在橱中她攻 有家眼 你不懂 你一句珍重 正有里B画荒的道 我杵在伊斯听堡 一说穿了其实我的愿望就\n",
      " - 不分开的风明典随 相发隐有苦功 选喜豆 我有一正翅痛 周它伦休手语著故嘴 的那啦它 他看儿弄 我知眼这融很\n",
      "epoch 100, perplexity 1.213063, time 0.05 sec\n",
      " - 分开怎么像你爸经廓千有样 什么兵器最喜欢 双截棍柔中带刚 想要去河南嵩山 学少林跟武当 快使用双截棍 哼\n",
      " - 不分开的风像来一家活力心你人母中软自目圈药掩会依抢不怎 爱也走活送同 你不始我不要再想你想想你想会这样著眼\n",
      "epoch 150, perplexity 1.163384, time 0.06 sec\n",
      " - 分开的玩在 宙运 我的的模有   你 靠着我的肩膀 你 在我胸口睡著 像这样的生活 我爱你 你爱我 开想\n",
      " - 不分开的只在你在回忆 的路上 时间变好慢 老街坊 小弄堂 是属于那年代白墙黑瓦的淡淡的忧伤 消失的 旧时光\n",
      "epoch 200, perplexity 1.146700, time 0.05 sec\n",
      " - 分开的那在你在爱情来的太快就像龙卷风 不知不觉 你已经离开我 不知不觉 我跟了这节奏 后知后觉 后知后觉\n",
      " - 不分开的只在你海中 盲目跟从 别人的梦 全面放纵 恨没有用 疗伤止痛 不再感动 没有梦 痛不知轻重 泪水鲜\n",
      "epoch 250, perplexity 1.132529, time 0.05 sec\n",
      " - 分开的那在人海中 盲目跟从 别人的梦 全面放纵 恨没有用 疗伤止痛岩不再感动 我想就想想阻诉我切眼睛的喜\n",
      " - 不分开的玩在 想通 却又再考倒我 说散 你想很久了吧? 败给你的黑色幽默 说散 你想很久了吧? 我的忧找 \n"
     ]
    }
   ],
   "source": [
    "num_epochs, batch_size, lr, clipping_theta = 250, 32, 1e2, 1e-2\n",
    "pred_period, pred_len, prefixes = 50, 50, ['分开', '不分开']\n",
    "train_and_predict_rnn_nn(model, num_hiddens, vocab_size, device,\n",
    "                            corpus_indices, idx_to_char, char_to_idx,\n",
    "                            num_epochs, num_steps, lr, clipping_theta,\n",
    "                            batch_size, pred_period, pred_len, prefixes)"
   ]
  },
  {
   "cell_type": "markdown",
   "metadata": {
    "colab_type": "text",
    "id": "R4jrAxUUFkf6"
   },
   "source": [
    "## 小结\n",
    "\n",
    "* torch的`nn`模块提供了循环神经网络层的实现。\n",
    "* torch的`nn.RNN`实例在前向计算后会分别返回输出和隐藏状态。该前向计算并不涉及输出层计算。\n",
    "\n",
    "## 练习\n",
    "\n",
    "* 与上一节的实现进行比较。看看nn的实现是不是运行速度更快？如果你觉得差别明显，试着找找原因。\n",
    "\n",
    "\n",
    "## 扫码直达[讨论区](https://discuss.gluon.ai/t/topic/4089)\n",
    "\n",
    "![](../img/qr_rnn-gluon.svg)"
   ]
  }
 ],
 "metadata": {
  "accelerator": "GPU",
  "colab": {
   "collapsed_sections": [],
   "name": "rnn-nn.ipynb",
   "provenance": [],
   "version": "0.3.2"
  },
  "kernelspec": {
   "display_name": "Python 3",
   "language": "python",
   "name": "python3"
  },
  "language_info": {
   "codemirror_mode": {
    "name": "ipython",
    "version": 3
   },
   "file_extension": ".py",
   "mimetype": "text/x-python",
   "name": "python",
   "nbconvert_exporter": "python",
   "pygments_lexer": "ipython3",
   "version": "3.6.8"
  },
  "toc": {
   "base_numbering": 1,
   "nav_menu": {},
   "number_sections": true,
   "sideBar": true,
   "skip_h1_title": false,
   "title_cell": "Table of Contents",
   "title_sidebar": "Contents",
   "toc_cell": false,
   "toc_position": {},
   "toc_section_display": true,
   "toc_window_display": false
  }
 },
 "nbformat": 4,
 "nbformat_minor": 1
}
