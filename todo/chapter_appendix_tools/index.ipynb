{
 "cells": [
  {
   "cell_type": "markdown",
   "metadata": {},
   "source": [
    "# Appendix: Tools for Deep Learning\n",
    "\n",
    ":label:`chap_appendix_tools`"
   ]
  },
  {
   "cell_type": "markdown",
   "metadata": {},
   "source": [
    "```toc\n",
    ":maxdepth: 2\n",
    "\n",
    "jupyter\n",
    "aws\n",
    "buy-gpu\n",
    "how-to-contribute\n",
    "d2l\n",
    "```\n"
   ]
  }
 ],
 "metadata": {
  "language_info": {
   "name": "python"
  }
 },
 "nbformat": 4,
 "nbformat_minor": 2
}