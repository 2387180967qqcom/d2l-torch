{
 "cells": [
  {
   "cell_type": "markdown",
   "metadata": {
    "colab_type": "text",
    "id": "-9ubzBRIZOIO"
   },
   "source": [
    "# 含并行连结的网络（GoogLeNet）\n",
    "\n",
    "在2014年的ImageNet图像识别挑战赛中，一个名叫GoogLeNet的网络结构大放异彩 [1]。它虽然在名字上向LeNet致敬，但在网络结构上已经很难看到LeNet的影子。GoogLeNet吸收了NiN中网络串联网络的思想，并在此基础上做了很大改进。在随后的几年里，研究人员对GoogLeNet进行了数次改进，本节将介绍这个模型系列的第一个版本。\n",
    "\n",
    "\n",
    "## Inception 块\n",
    "\n",
    "GoogLeNet中的基础卷积块叫作Inception块，得名于同名电影《盗梦空间》（Inception）。与上一节介绍的NiN块相比，这个基础块在结构上更加复杂，如图5.8所示。\n",
    "\n",
    "![Inception块的结构](../img/inception.svg)\n",
    "\n",
    "由图5.8可以看出，Inception块里有4条并行的线路。前3条线路使用窗口大小分别是$1\\times 1$、$3\\times 3$和$5\\times 5$的卷积层来抽取不同空间尺寸下的信息，其中中间2个线路会对输入先做$1\\times 1$卷积来减少输入通道数，以降低模型复杂度。第四条线路则使用$3\\times 3$最大池化层，后接$1\\times 1$卷积层来改变通道数。4条线路都使用了合适的填充来使输入与输出的高和宽一致。最后我们将每条线路的输出在通道维上连结，并输入接下来的层中去。\n",
    "\n",
    "Inception块中可以自定义的超参数是每个层的输出通道数，我们以此来控制模型复杂度。"
   ]
  },
  {
   "cell_type": "code",
   "execution_count": 1,
   "metadata": {
    "colab": {},
    "colab_type": "code",
    "id": "eFUx4kelZPMw"
   },
   "outputs": [],
   "source": [
    "import d2ltorch as d2lt\n",
    "import torch\n",
    "from torch import nn, optim\n",
    "from torchsummary import summary_depth\n",
    "\n",
    "class Inception(nn.Module):\n",
    "    # c0为输入通道数, c1 - c4为每条线路里的层的输出通道数\n",
    "    def __init__(self, c0, c1, c2, c3, c4, **kwargs):\n",
    "        super(Inception, self).__init__(**kwargs)\n",
    "        \n",
    "        # 线路1，单1 x 1卷积层\n",
    "        self.p1 = nn.Sequential(\n",
    "            nn.Conv2d(c0, c1, kernel_size=1), nn.ReLU(inplace=True)\n",
    "            \n",
    "        )\n",
    "        \n",
    "        # 线路2，1 x 1卷积层后接3 x 3卷积层\n",
    "        self.p2 = nn.Sequential(\n",
    "            nn.Conv2d(c0, c2[0], kernel_size=1), \n",
    "            nn.ReLU(inplace=True),\n",
    "            nn.Conv2d(c2[0], c2[1], kernel_size=3, padding=1), \n",
    "            nn.ReLU(inplace=True)\n",
    "        )\n",
    "        \n",
    "        # 线路3， 1 x 1卷积层后接5 x 5卷积层\n",
    "        self.p3 = nn.Sequential(\n",
    "            nn.Conv2d(c0, c3[0], kernel_size=1), nn.ReLU(inplace=True),\n",
    "            nn.Conv2d(c3[0], c3[1], kernel_size=5, padding=2), nn.ReLU(inplace=True)\n",
    "        )\n",
    "        \n",
    "        # 线路4， 3 x 3最大池化层后接1 x 1卷积层\n",
    "        self.p4 = nn.Sequential(\n",
    "            nn.MaxPool2d(kernel_size=3, stride=1, padding=1),\n",
    "            nn.Conv2d(c0, c4, kernel_size=1), nn.ReLU(inplace=True)\n",
    "        )\n",
    "        \n",
    "    def forward(self, x):\n",
    "        x1 = self.p1(x)\n",
    "        x2 = self.p2(x)\n",
    "        x3 = self.p3(x)\n",
    "        x4 = self.p4(x)\n",
    "        return torch.cat((x1, x2, x3, x4), dim=1) # 在通道维上连结输出"
   ]
  },
  {
   "cell_type": "markdown",
   "metadata": {
    "colab_type": "text",
    "id": "S5UnHLM-aHgh"
   },
   "source": [
    "## GoogLeNet模型\n",
    "\n",
    "GoogLeNet跟VGG一样，在主体卷积部分中使用5个模块（block），每个模块之间使用步幅为2的$3\\times 3$最大池化层来减小输出高宽。"
   ]
  },
  {
   "cell_type": "code",
   "execution_count": 2,
   "metadata": {
    "colab": {},
    "colab_type": "code",
    "id": "xHaHXcN9aLpS"
   },
   "outputs": [],
   "source": [
    "class MyGoogLeNet(nn.Module):\n",
    "    def __init__(self, in_channels, **kwargs):\n",
    "        super(MyGoogLeNet, self).__init__(**kwargs)\n",
    "        # 第一模块使用一个64通道的7 x 7卷积层。\n",
    "        self.b1 = nn.Sequential(\n",
    "            nn.Conv2d(in_channels, 64, kernel_size=7, stride=2, padding=3),\n",
    "            nn.ReLU(inplace=True),\n",
    "            nn.MaxPool2d(kernel_size=3, stride=2, padding=1)\n",
    "        )\n",
    "        \n",
    "        # 第二模块使用2个卷积层\n",
    "        self.b2 = nn.Sequential(\n",
    "            # 首先是64通道的1 x 1卷积层\n",
    "            nn.Conv2d(64, 64, kernel_size=1), nn.ReLU(inplace=True),\n",
    "            # 然后是将通道增大3倍的3 x 3卷积层。它对应Inception块中的第二条线路。\n",
    "            nn.Conv2d(64, 192, kernel_size=3, padding=1), nn.ReLU(inplace=True),\n",
    "            nn.MaxPool2d(kernel_size=3, stride=2, padding=1)\n",
    "        )\n",
    "        \n",
    "        # 第三模块串联2个完整的Inception块。\n",
    "        self.b3 = nn.Sequential(\n",
    "            # 第一个Inception块的输出通道数为 64+128+32+32=256，\n",
    "            # 其中4条线路的输出通道数比例为 64:128:32:32=2:4:1:1。\n",
    "            # 其中第二、第三条线路先分别将输入通道数减小至 96/192=1/2 和 16/192=1/12 后，再接上第二层卷积层。\n",
    "            Inception(192, 64, (96, 128), (16, 32), 32),\n",
    "            # 第二个Inception块输出通道数增至 128+192+96+64=480，\n",
    "            # 每条线路的输出通道数之比为 128:192:96:64 = 4:6:3:2。\n",
    "            # 其中第二、第三条线路先分别将输入通道数减小至 128/256=1/2 和 32/256=1/8 。\n",
    "            Inception(256, 128, (128, 192), (32, 96), 64),\n",
    "            nn.MaxPool2d(kernel_size=3, stride=2, padding=1)\n",
    "        )\n",
    "        \n",
    "        # 第四模块更加复杂。它串联了5个Inception块。\n",
    "        # 每个Inception块的线路的通道数分配和第三模块中的类似，\n",
    "        # 首先含3 x 3卷积层的第二条线路输出最多通道，其次是仅含1 x 1卷积层的第一条线路，\n",
    "        # 之后是含5 x 5卷积层的第三条线路和含3 x 3最大池化层的第四条线路。\n",
    "        # 其中第二、第三条线路都会先按比例减小通道数。这些比例在各个Inception块中都略有不同。\n",
    "        self.b4 = nn.Sequential(\n",
    "            # 输出通道数 192+208+48+64=512\n",
    "            Inception(480, 192, (96, 208), (16, 48), 64),\n",
    "            # 输出通道数 160+224+64+64=512\n",
    "            Inception(512, 160, (112, 224), (24, 64), 64),\n",
    "            # 输出通道数 128+256+64+64=512\n",
    "            Inception(512, 128, (128, 256), (24, 64), 64),\n",
    "            # 输出通道数 112+288+64+64=528\n",
    "            Inception(512, 112, (144, 288), (32, 64), 64),\n",
    "            # 输出通道数 256+320+128+128=832\n",
    "            Inception(528, 256, (160, 320), (32, 128), 128),\n",
    "            nn.MaxPool2d(kernel_size=3, stride=2, padding=1)\n",
    "        )\n",
    "        \n",
    "        # 第五模块有两个Inception块。其中每条线路的通道数的分配思路和第三、第四模块中的一致，\n",
    "        # 只是在具体数值上有所不同。需要注意的是，第五模块的后面紧跟输出层，\n",
    "        # 该模块同NiN一样使用全局平均池化层来将每个通道的高和宽变成1。\n",
    "        self.b5 = nn.Sequential(\n",
    "            # 输出通道数 256+320+128+128=832\n",
    "            Inception(832, 256, (160, 320), (32, 128), 128),\n",
    "            # 输出通道数 384+384+128+128=1024\n",
    "            Inception(832, 384, (192, 384), (48, 128), 128),\n",
    "            nn.AdaptiveAvgPool2d((1, 1))\n",
    "        )\n",
    "        \n",
    "        # 最后我们将输出变成二维数组后接上一个输出个数为标签类别数的全连接层。\n",
    "        self.output = nn.Linear(1024*1*1, 10)\n",
    "    \n",
    "    def forward(self, x):\n",
    "        x = self.b1(x)\n",
    "        x = self.b2(x)\n",
    "        x = self.b3(x)\n",
    "        x = self.b4(x)\n",
    "        x = self.b5(x)\n",
    "        x = x.reshape(-1, 1024*1*1)\n",
    "        x = self.output(x)\n",
    "        return x"
   ]
  },
  {
   "cell_type": "markdown",
   "metadata": {
    "colab_type": "text",
    "id": "xi1fZD4YaQTu"
   },
   "source": [
    "GoogLeNet模型的计算复杂，而且不如VGG那样便于修改通道数。本节里我们将输入的高和宽从224降到96来简化计算。下面演示各个模块之间的输出的形状变化。"
   ]
  },
  {
   "cell_type": "code",
   "execution_count": 3,
   "metadata": {
    "colab": {
     "base_uri": "https://localhost:8080/",
     "height": 2635
    },
    "colab_type": "code",
    "id": "qiW40cHVaRfF",
    "outputId": "45caf581-c034-4e58-fbaa-35f521bf3d7b"
   },
   "outputs": [
    {
     "name": "stdout",
     "output_type": "stream",
     "text": [
      "------------------------------------------------------------------------------------------\n",
      "Layer (type:depth-idx)                   Output Shape              Param #        \n",
      "==========================================================================================\n",
      "├─Sequential: 1-1                        [-1, 64, 24, 24]          --             \n",
      "|    └─Conv2d: 2-1                       [-1, 64, 48, 48]          3,200          \n",
      "|    └─ReLU: 2-2                         [-1, 64, 48, 48]          --             \n",
      "|    └─MaxPool2d: 2-3                    [-1, 64, 24, 24]          --             \n",
      "├─Sequential: 1-2                        [-1, 192, 12, 12]         --             \n",
      "|    └─Conv2d: 2-4                       [-1, 64, 24, 24]          4,160          \n",
      "|    └─ReLU: 2-5                         [-1, 64, 24, 24]          --             \n",
      "|    └─Conv2d: 2-6                       [-1, 192, 24, 24]         110,784        \n",
      "|    └─ReLU: 2-7                         [-1, 192, 24, 24]         --             \n",
      "|    └─MaxPool2d: 2-8                    [-1, 192, 12, 12]         --             \n",
      "├─Sequential: 1-3                        [-1, 480, 6, 6]           --             \n",
      "|    └─Inception: 2-9                    [-1, 256, 12, 12]         --             \n",
      "|    |    └─Sequential: 3-1              [-1, 64, 12, 12]          --             \n",
      "|    |    └─Sequential: 3-2              [-1, 128, 12, 12]         --             \n",
      "|    |    └─Sequential: 3-3              [-1, 32, 12, 12]          --             \n",
      "|    |    └─Sequential: 3-4              [-1, 32, 12, 12]          --             \n",
      "|    └─Inception: 2-10                   [-1, 480, 12, 12]         --             \n",
      "|    |    └─Sequential: 3-5              [-1, 128, 12, 12]         --             \n",
      "|    |    └─Sequential: 3-6              [-1, 192, 12, 12]         --             \n",
      "|    |    └─Sequential: 3-7              [-1, 96, 12, 12]          --             \n",
      "|    |    └─Sequential: 3-8              [-1, 64, 12, 12]          --             \n",
      "|    └─MaxPool2d: 2-11                   [-1, 480, 6, 6]           --             \n",
      "├─Sequential: 1-4                        [-1, 832, 3, 3]           --             \n",
      "|    └─Inception: 2-12                   [-1, 512, 6, 6]           --             \n",
      "|    |    └─Sequential: 3-9              [-1, 192, 6, 6]           --             \n",
      "|    |    └─Sequential: 3-10             [-1, 208, 6, 6]           --             \n",
      "|    |    └─Sequential: 3-11             [-1, 48, 6, 6]            --             \n",
      "|    |    └─Sequential: 3-12             [-1, 64, 6, 6]            --             \n",
      "|    └─Inception: 2-13                   [-1, 512, 6, 6]           --             \n",
      "|    |    └─Sequential: 3-13             [-1, 160, 6, 6]           --             \n",
      "|    |    └─Sequential: 3-14             [-1, 224, 6, 6]           --             \n",
      "|    |    └─Sequential: 3-15             [-1, 64, 6, 6]            --             \n",
      "|    |    └─Sequential: 3-16             [-1, 64, 6, 6]            --             \n",
      "|    └─Inception: 2-14                   [-1, 512, 6, 6]           --             \n",
      "|    |    └─Sequential: 3-17             [-1, 128, 6, 6]           --             \n",
      "|    |    └─Sequential: 3-18             [-1, 256, 6, 6]           --             \n",
      "|    |    └─Sequential: 3-19             [-1, 64, 6, 6]            --             \n",
      "|    |    └─Sequential: 3-20             [-1, 64, 6, 6]            --             \n",
      "|    └─Inception: 2-15                   [-1, 528, 6, 6]           --             \n",
      "|    |    └─Sequential: 3-21             [-1, 112, 6, 6]           --             \n",
      "|    |    └─Sequential: 3-22             [-1, 288, 6, 6]           --             \n",
      "|    |    └─Sequential: 3-23             [-1, 64, 6, 6]            --             \n",
      "|    |    └─Sequential: 3-24             [-1, 64, 6, 6]            --             \n",
      "|    └─Inception: 2-16                   [-1, 832, 6, 6]           --             \n",
      "|    |    └─Sequential: 3-25             [-1, 256, 6, 6]           --             \n",
      "|    |    └─Sequential: 3-26             [-1, 320, 6, 6]           --             \n",
      "|    |    └─Sequential: 3-27             [-1, 128, 6, 6]           --             \n",
      "|    |    └─Sequential: 3-28             [-1, 128, 6, 6]           --             \n",
      "|    └─MaxPool2d: 2-17                   [-1, 832, 3, 3]           --             \n",
      "├─Sequential: 1-5                        [-1, 1024, 1, 1]          --             \n",
      "|    └─Inception: 2-18                   [-1, 832, 3, 3]           --             \n",
      "|    |    └─Sequential: 3-29             [-1, 256, 3, 3]           --             \n",
      "|    |    └─Sequential: 3-30             [-1, 320, 3, 3]           --             \n",
      "|    |    └─Sequential: 3-31             [-1, 128, 3, 3]           --             \n",
      "|    |    └─Sequential: 3-32             [-1, 128, 3, 3]           --             \n",
      "|    └─Inception: 2-19                   [-1, 1024, 3, 3]          --             \n",
      "|    |    └─Sequential: 3-33             [-1, 384, 3, 3]           --             \n",
      "|    |    └─Sequential: 3-34             [-1, 384, 3, 3]           --             \n",
      "|    |    └─Sequential: 3-35             [-1, 128, 3, 3]           --             \n",
      "|    |    └─Sequential: 3-36             [-1, 128, 3, 3]           --             \n",
      "|    └─AdaptiveAvgPool2d: 2-20           [-1, 1024, 1, 1]          --             \n",
      "├─Linear: 1-6                            [-1, 10]                  10,250         \n",
      "==========================================================================================\n",
      "Total params: 5,977,530\n",
      "Trainable params: 5,977,530\n",
      "Non-trainable params: 0\n",
      "------------------------------------------------------------------------------------------\n",
      "Input size (MB): 0.04\n",
      "Params size (MB): 22.80\n",
      "------------------------------------------------------------------------------------------\n"
     ]
    }
   ],
   "source": [
    "net = MyGoogLeNet(in_channels=1)\n",
    "summary_depth(net, (1, 96, 96), device='cpu')"
   ]
  },
  {
   "cell_type": "markdown",
   "metadata": {
    "colab_type": "text",
    "id": "19LEqmauaiKU"
   },
   "source": [
    "## 获取数据和训练模型\n",
    "\n",
    "我们使用高和宽均为96像素的图像来训练GoogLeNet模型。训练使用的图像依然来自Fashion-MNIST数据集。"
   ]
  },
  {
   "cell_type": "code",
   "execution_count": 4,
   "metadata": {
    "colab": {
     "base_uri": "https://localhost:8080/",
     "height": 121
    },
    "colab_type": "code",
    "id": "BkRvYg-xIS-f",
    "outputId": "d9824707-9c6d-48cf-a124-2714dc1ce904"
   },
   "outputs": [
    {
     "name": "stdout",
     "output_type": "stream",
     "text": [
      "training on cuda:0\n",
      "epoch 1, loss 0.0173, train acc 0.165, test acc 0.121, time 45.3 sec\n",
      "epoch 2, loss 0.0086, train acc 0.564, test acc 0.666, time 45.3 sec\n",
      "epoch 3, loss 0.0045, train acc 0.784, test acc 0.795, time 34.2 sec\n",
      "epoch 4, loss 0.0033, train acc 0.839, test acc 0.841, time 26.4 sec\n",
      "epoch 5, loss 0.0028, train acc 0.863, test acc 0.864, time 24.6 sec\n"
     ]
    }
   ],
   "source": [
    "root = '~/dataset'\n",
    "lr, num_epochs, batch_size, device = 0.1, 5, 128, d2lt.try_gpu()\n",
    "    \n",
    "d2lt.params_init(net, nn.init.xavier_uniform_)\n",
    "optimizer = optim.SGD(net.parameters(), lr=lr)\n",
    "train_iter, test_iter = d2lt.load_data_fashion_mnist(root, batch_size, resize=96)\n",
    "d2lt.train_ch5(net, train_iter, test_iter, batch_size, optimizer, device,\n",
    "              num_epochs)"
   ]
  },
  {
   "cell_type": "markdown",
   "metadata": {
    "colab_type": "text",
    "id": "9lvFtuNbbm8Q"
   },
   "source": [
    "## 小结\n",
    "\n",
    "* Inception块相当于一个有4条线路的子网络。它通过不同窗口形状的卷积层和最大池化层来并行抽取信息，并使用$1\\times 1$卷积层减少通道数从而降低模型复杂度。\n",
    "* GoogLeNet将多个设计精细的Inception块和其他层串联起来。其中Inception块的通道数分配之比是在ImageNet数据集上通过大量的实验得来的。\n",
    "* GoogLeNet和它的后继者们一度是ImageNet上最高效的模型之一：在类似的测试精度下，它们的计算复杂度往往更低。\n",
    "\n",
    "## 练习\n",
    "\n",
    "* GoogLeNet有数个后续版本。尝试实现并运行它们，然后观察实验结果。这些后续版本包括加入批量归一化层（下一节将介绍）[2]、对Inception块做调整 [3] 和加入残差连接（[“残差网络（ResNet）”](resnet.ipynb)一节将介绍）[4]。\n",
    "\n",
    "* 对比AlexNet、VGG和NiN、GoogLeNet的模型参数尺寸。为什么后两个网络可以显著减小模型参数尺寸？\n",
    "\n",
    "\n",
    "\n",
    "\n",
    "## 参考文献\n",
    "\n",
    "[1] Szegedy, C., Liu, W., Jia, Y., Sermanet, P., Reed, S., & Anguelov, D. & Rabinovich, A.(2015). Going deeper with convolutions. In Proceedings of the IEEE conference on computer vision and pattern recognition (pp. 1-9).\n",
    "\n",
    "[2] Ioffe, S., & Szegedy, C. (2015). Batch normalization: Accelerating deep network training by reducing internal covariate shift. arXiv preprint arXiv:1502.03167.\n",
    "\n",
    "[3] Szegedy, C., Vanhoucke, V., Ioffe, S., Shlens, J., & Wojna, Z. (2016). Rethinking the inception architecture for computer vision. In Proceedings of the IEEE Conference on Computer Vision and Pattern Recognition (pp. 2818-2826).\n",
    "\n",
    "[4] Szegedy, C., Ioffe, S., Vanhoucke, V., & Alemi, A. A. (2017, February). Inception-v4, inception-resnet and the impact of residual connections on learning. In Proceedings of the AAAI Conference on Artificial Intelligence (Vol. 4, p. 12).\n",
    "\n",
    "## 扫码直达[讨论区](https://discuss.gluon.ai/t/topic/1662)\n",
    "\n",
    "![](../img/qr_googlenet.svg)"
   ]
  }
 ],
 "metadata": {
  "accelerator": "GPU",
  "colab": {
   "collapsed_sections": [
    "9lvFtuNbbm8Q"
   ],
   "name": "googlenet.ipynb",
   "provenance": [],
   "toc_visible": true,
   "version": "0.3.2"
  },
  "kernelspec": {
   "display_name": "Python [conda env:pytorch]",
   "language": "python",
   "name": "conda-env-pytorch-py"
  },
  "language_info": {
   "codemirror_mode": {
    "name": "ipython",
    "version": 3
   },
   "file_extension": ".py",
   "mimetype": "text/x-python",
   "name": "python",
   "nbconvert_exporter": "python",
   "pygments_lexer": "ipython3",
   "version": "3.6.9"
  },
  "toc": {
   "base_numbering": 1,
   "nav_menu": {},
   "number_sections": true,
   "sideBar": true,
   "skip_h1_title": false,
   "title_cell": "Table of Contents",
   "title_sidebar": "Contents",
   "toc_cell": false,
   "toc_position": {},
   "toc_section_display": true,
   "toc_window_display": false
  }
 },
 "nbformat": 4,
 "nbformat_minor": 4
}
